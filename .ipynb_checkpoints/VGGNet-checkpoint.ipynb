{
 "cells": [
  {
   "cell_type": "code",
   "execution_count": 36,
   "id": "c86cd61f-6fea-49fb-aab3-fd85c80e2df5",
   "metadata": {},
   "outputs": [],
   "source": [
    "import torch\n",
    "from torch import nn\n",
    "from torch import optim\n",
    "import torchvision\n",
    "from torchvision import datasets\n",
    "from torchvision import transforms\n",
    "from torchvision.datasets import ImageFolder\n",
    "from torch.utils.data import DataLoader\n",
    "import os"
   ]
  },
  {
   "cell_type": "markdown",
   "id": "7bf36d46-723d-419a-ac97-1bb61374cba8",
   "metadata": {},
   "source": [
    "# Dataset"
   ]
  },
  {
   "cell_type": "code",
   "execution_count": 17,
   "id": "7c1a9166-bae4-4d87-8937-e09a9cc35bce",
   "metadata": {},
   "outputs": [],
   "source": [
    "base_dir = r\"/Users/h383kim/pytorch/AlexNet/splitted\"\n",
    "train_dir = os.path.join(base_dir, 'train')\n",
    "val_dir = os.path.join(base_dir, 'val')\n",
    "test_dir = os.path.join(base_dir, 'test')"
   ]
  },
  {
   "cell_type": "code",
   "execution_count": 18,
   "id": "a1409c24-fec7-48e9-8121-4155364b2094",
   "metadata": {},
   "outputs": [],
   "source": [
    "img_transform = transforms.Compose([\n",
    "    transforms.Resize(size=(224, 224)),\n",
    "    transforms.ToTensor()\n",
    "])"
   ]
  },
  {
   "cell_type": "code",
   "execution_count": 19,
   "id": "bbf2d2d8-443d-4a9c-a3f0-d7702aa40170",
   "metadata": {},
   "outputs": [],
   "source": [
    "train_dataset = ImageFolder(root=train_dir,\n",
    "                            transform=img_transform)\n",
    "val_dataset = ImageFolder(root=val_dir,\n",
    "                          transform=img_transform)\n",
    "test_dataset = ImageFolder(root=test_dir,\n",
    "                          transform=img_transform)                            "
   ]
  },
  {
   "cell_type": "code",
   "execution_count": 53,
   "id": "879dff64-d9e5-4948-9f70-e91c7e50b8ad",
   "metadata": {},
   "outputs": [],
   "source": [
    "BATCH_SIZE = 16\n",
    "train_dataloader = DataLoader(dataset=train_dataset,\n",
    "                              batch_size=BATCH_SIZE,\n",
    "                              shuffle=True,\n",
    "                              num_workers=os.cpu_count())\n",
    "val_dataloader = DataLoader(dataset=val_dataset,\n",
    "                            batch_size=BATCH_SIZE,\n",
    "                            shuffle=True,\n",
    "                            num_workers=os.cpu_count())\n",
    "test_dataloader = DataLoader(dataset=test_dataset,\n",
    "                             batch_size=BATCH_SIZE,\n",
    "                             shuffle=False,\n",
    "                             num_workers=os.cpu_count())"
   ]
  },
  {
   "cell_type": "markdown",
   "id": "f34dbbde-e96a-4297-8109-0c376876c7dd",
   "metadata": {},
   "source": [
    "# Model"
   ]
  },
  {
   "cell_type": "code",
   "execution_count": 21,
   "id": "4b2874f2-1b9a-403e-9e75-6618cec39c28",
   "metadata": {},
   "outputs": [],
   "source": [
    "VGGNet_type = {\n",
    "    \"VGG11\" : [64, \"MaxPool\", 128, \"MaxPool\", 256, 256, \"MaxPool\", 512, 512, \"MaxPool\", 512, 512, \"MaxPool\"],\n",
    "    \"VGG13\" : [64, 64, \"MaxPool\", 128, 128, \"MaxPool\", 256, 256, \"MaxPool\", 512, 512, \"MaxPool\", 512, 512, \"MaxPool\"],\n",
    "    \"VGG16\" : [64, 64, \"MaxPool\", 128, 128, \"MaxPool\", 256, 256, 256, \"MaxPool\", 512, 512, 512, \"MaxPool\", 512, 512, 512, \"MaxPool\"],\n",
    "    \"VGG19\" : [64, 64, \"MaxPool\", 128, 128, \"MaxPool\", 256, 256, 256, 256, \"MaxPool\", 512, 512, 512, 512, \"MaxPool\", 512, 512, 512, 512, \"MaxPool\"]\n",
    "}"
   ]
  },
  {
   "cell_type": "code",
   "execution_count": 29,
   "id": "6de8901e-b7fb-47ee-a072-3aa99f491942",
   "metadata": {},
   "outputs": [],
   "source": [
    "class VGGNet(nn.Module):\n",
    "    def __init__(self, in_channels, model=\"VGG19\", num_classes=10):\n",
    "        super().__init__()\n",
    "\n",
    "        self.input_size=in_channels\n",
    "\n",
    "        self.conv = self._create_conv_layers(VGGNet_type[model])\n",
    "\n",
    "        self.FC1 = nn.Sequential(\n",
    "            nn.Flatten(),\n",
    "            nn.Linear(512*7*7, 4096),\n",
    "            nn.ReLU(),\n",
    "            nn.Dropout(p=0.5),\n",
    "        )\n",
    "\n",
    "        self.FC2 = nn.Sequential(\n",
    "            nn.Linear(4096, 4096),\n",
    "            nn.ReLU(),\n",
    "            nn.Dropout(p=0.5)\n",
    "        )\n",
    "\n",
    "        self.FC3 = nn.Sequential(\n",
    "            nn.Linear(4096, num_classes)\n",
    "        )\n",
    "        \n",
    "    def forward(self, x):\n",
    "        x = self.conv(x)\n",
    "        x = self.FC1(x)\n",
    "        x = self.FC2(x)\n",
    "        x = self.FC3(x)\n",
    "\n",
    "        return x\n",
    "    \n",
    "    def _create_conv_layers(self, layers):\n",
    "        conv_blocks = []\n",
    "        in_channels = self.input_size\n",
    "        \n",
    "        for layer in layers:\n",
    "            # conv layer\n",
    "            if isinstance(layer, int):\n",
    "                out_channels = layer\n",
    "                \n",
    "                conv_blocks.append(nn.Conv2d(in_channels=in_channels, out_channels=out_channels, kernel_size=(3, 3), stride=1, padding=1))\n",
    "                conv_blocks.append(nn.BatchNorm2d(out_channels))\n",
    "                conv_blocks.append(nn.ReLU())\n",
    "                # out_channels becomes the next in_channels\n",
    "                in_channels = out_channels\n",
    "\n",
    "            # maxpooling layer\n",
    "            else:\n",
    "                conv_blocks.append(nn.MaxPool2d(kernel_size=(2, 2), stride=2))\n",
    "\n",
    "\n",
    "        return nn.Sequential(*conv_blocks)"
   ]
  },
  {
   "cell_type": "markdown",
   "id": "f560fe32-0dbd-46df-a2d9-9bfd9f9bf129",
   "metadata": {},
   "source": [
    "# Train / Evaluation"
   ]
  },
  {
   "cell_type": "code",
   "execution_count": 43,
   "id": "3683d60b-73c8-48f8-99a6-9dde1cdb68d7",
   "metadata": {},
   "outputs": [],
   "source": [
    "def train(model: torch.nn.Module,\n",
    "          dataloader: torch.utils.data.DataLoader,\n",
    "          optimizer: torch.optim.Optimizer,\n",
    "          loss_fn: torch.nn.Module=nn.CrossEntropyLoss()):\n",
    "    # Put the model into train mode\n",
    "    model.train()\n",
    "    train_loss, train_acc, correct = 0, 0, 0\n",
    "\n",
    "    for batch, (X, y) in enumerate(dataloader):\n",
    "        # Send the data into cpu or gpu\n",
    "        X, y = X.to(DEVICE), y.to(DEVICE)\n",
    "\n",
    "        # Forward pass\n",
    "        preds_prob = model(X)\n",
    "\n",
    "        # Calculate the loss\n",
    "        loss = loss_fn(preds_prob, y)\n",
    "        train_loss += loss.item()\n",
    "\n",
    "        # Optimizer zero_grad\n",
    "        optimizer.zero_grad()\n",
    "\n",
    "        # Backpropagtion\n",
    "        loss.backward()\n",
    "        # Optimizer step\n",
    "        optimizer.step()\n",
    "\n",
    "        pred = torch.argmax(preds_prob, dim=1)\n",
    "        correct += pred.eq(y.view_as(pred)).sum().item()\n",
    "\n",
    "    train_loss /= len(dataloader)\n",
    "    train_acc = 100. * correct / len(dataloader.dataset)\n",
    "    return train_loss, train_acc"
   ]
  },
  {
   "cell_type": "code",
   "execution_count": 44,
   "id": "c2c749ea-e749-4961-acf4-e2a0463190ff",
   "metadata": {},
   "outputs": [],
   "source": [
    "def evaluate(model: torch.nn.Module,\n",
    "             dataloader: torch.utils.data.DataLoader,\n",
    "             optimizer: torch.optim.Optimizer,\n",
    "             loss_fn: torch.nn.Module=nn.CrossEntropyLoss()):\n",
    "    # Put the model into eval mode\n",
    "    model.eval()\n",
    "    test_loss, test_acc, correct = 0, 0, 0\n",
    "\n",
    "    with torch.no_grad():\n",
    "        for X, y in dataloader:\n",
    "            X, y = X.to(DEVICE), y.to(DEVICE)\n",
    "\n",
    "            # Forward pass\n",
    "            preds_prob = model(X)\n",
    "\n",
    "            # Calculate the loss\n",
    "            loss = loss_fn(preds_prob, y).item()\n",
    "            test_loss += loss\n",
    "\n",
    "            pred = torch.argmax(preds_prob, dim=1)\n",
    "            correct += pred.eq(y.view_as(pred)).sum().item()\n",
    "\n",
    "        test_loss /= len(dataloader)\n",
    "        test_acc = 100. * correct / len(dataloader.dataset)\n",
    "\n",
    "    return test_loss, test_acc"
   ]
  },
  {
   "cell_type": "code",
   "execution_count": 45,
   "id": "18c09e50-7d7f-40b3-b51f-332e01aa3806",
   "metadata": {},
   "outputs": [],
   "source": [
    "import time\n",
    "import copy\n",
    "\n",
    "def train_baseline(model: torch.nn.Module, \n",
    "                   train_dataloader: torch.utils.data.DataLoader, \n",
    "                   val_dataloader: torch.utils.data.DataLoader,\n",
    "                   optimizer: torch.optim.Optimizer,\n",
    "                   loss_fn: torch.nn.Module=nn.CrossEntropyLoss(),\n",
    "                   num_epochs: int=30):\n",
    "    best_acc = 0.0\n",
    "    best_model_wts = copy.deepcopy(model.state_dict())\n",
    "    \n",
    "    for epoch in range(1, num_epochs + 1):\n",
    "        start_time = time.time()\n",
    "        # Train the model and print save the results\n",
    "        train_loss, train_acc = train(model=model,\n",
    "                                      dataloader=train_dataloader, \n",
    "                                      optimizer=optimizer,\n",
    "                                      loss_fn=loss_fn)\n",
    "        \n",
    "        val_loss, val_acc = evaluate(model=model,\n",
    "                                     dataloader=val_dataloader,\n",
    "                                     optimizer=optimizer,\n",
    "                                     loss_fn=loss_fn)\n",
    "        \n",
    "        if val_acc > best_acc:\n",
    "            best_acc = val_acc\n",
    "            best_model_wts = copy.deepcopy(model.state_dict())\n",
    "            \n",
    "        end_time = time.time()\n",
    "        time_elapsed = end_time - start_time\n",
    "        print(f\"------------ epoch {epoch} ------------\")\n",
    "        print(f\"Train loss: {train_loss:.4f} | Train acc: {train_acc:.2f}%\")\n",
    "        print(f\"Val loss: {val_loss:.4f} | Val acc: {val_acc:2f}%\")\n",
    "        print(f\"Time taken: {time_elapsed / 60:.0f}min {time_elapsed % 60:.0f}s\")\n",
    "        \n",
    "    model.load_state_dict(best_model_wts)\n",
    "    return model  "
   ]
  },
  {
   "cell_type": "markdown",
   "id": "ffecd560-2850-4378-9268-fe5b003ee59a",
   "metadata": {},
   "source": [
    "# Train Baseline Model"
   ]
  },
  {
   "cell_type": "code",
   "execution_count": 46,
   "id": "b777308e-e6bb-413b-a987-8c9bfa7d8653",
   "metadata": {},
   "outputs": [
    {
     "data": {
      "text/plain": [
       "'mps'"
      ]
     },
     "execution_count": 46,
     "metadata": {},
     "output_type": "execute_result"
    }
   ],
   "source": [
    "DEVICE = \"mps\" if torch.backends.mps.is_available() else \"cpu\"\n",
    "DEVICE"
   ]
  },
  {
   "cell_type": "code",
   "execution_count": 47,
   "id": "05eee50a-a9d9-42a4-8325-07305c546436",
   "metadata": {},
   "outputs": [],
   "source": [
    "VGG = VGGNet(in_channels=3, model=\"VGG19\", num_classes=10).to(DEVICE)\n",
    "loss_fn = nn.CrossEntropyLoss()\n",
    "optimizer = torch.optim.Adam(VGG.parameters(), lr = 0.001)\n",
    "scheduler = torch.optim.lr_scheduler.StepLR(optimizer, step_size=10, gamma=0.3)"
   ]
  },
  {
   "cell_type": "code",
   "execution_count": 55,
   "id": "05f86d50-8639-43bd-8abf-1c21b87cf03e",
   "metadata": {},
   "outputs": [
    {
     "name": "stdout",
     "output_type": "stream",
     "text": [
      "------------ epoch 1 ------------\n",
      "Train loss: 2.4844 | Train acc: 18.48%\n",
      "Val loss: 2.2110 | Val acc: 18.439174%\n",
      "Time taken: 17min 40s\n"
     ]
    },
    {
     "name": "stderr",
     "output_type": "stream",
     "text": [
      "Exception ignored in: <function _MultiProcessingDataLoaderIter.__del__ at 0x1151e78b0>\n",
      "Traceback (most recent call last):\n",
      "  File \"/Users/h383kim/miniforge3/envs/env/lib/python3.8/site-packages/torch/utils/data/dataloader.py\", line 1479, in __del__\n",
      "    self._shutdown_workers()\n",
      "  File \"/Users/h383kim/miniforge3/envs/env/lib/python3.8/site-packages/torch/utils/data/dataloader.py\", line 1443, in _shutdown_workers\n",
      "    w.join(timeout=_utils.MP_STATUS_CHECK_INTERVAL)\n",
      "  File \"/Users/h383kim/miniforge3/envs/env/lib/python3.8/multiprocessing/process.py\", line 149, in join\n",
      "    res = self._popen.wait(timeout)\n",
      "  File \"/Users/h383kim/miniforge3/envs/env/lib/python3.8/multiprocessing/popen_fork.py\", line 44, in wait\n",
      "    if not wait([self.sentinel], timeout):\n",
      "  File \"/Users/h383kim/miniforge3/envs/env/lib/python3.8/multiprocessing/connection.py\", line 931, in wait\n",
      "    ready = selector.select(timeout)\n",
      "  File \"/Users/h383kim/miniforge3/envs/env/lib/python3.8/selectors.py\", line 415, in select\n",
      "    fd_event_list = self._selector.poll(timeout)\n",
      "KeyboardInterrupt: \n"
     ]
    },
    {
     "ename": "KeyboardInterrupt",
     "evalue": "",
     "output_type": "error",
     "traceback": [
      "\u001b[0;31m---------------------------------------------------------------------------\u001b[0m",
      "\u001b[0;31mKeyboardInterrupt\u001b[0m                         Traceback (most recent call last)",
      "Cell \u001b[0;32mIn[55], line 1\u001b[0m\n\u001b[0;32m----> 1\u001b[0m base \u001b[38;5;241m=\u001b[39m \u001b[43mtrain_baseline\u001b[49m\u001b[43m(\u001b[49m\u001b[43mmodel\u001b[49m\u001b[38;5;241;43m=\u001b[39;49m\u001b[43mVGG\u001b[49m\u001b[43m,\u001b[49m\n\u001b[1;32m      2\u001b[0m \u001b[43m                      \u001b[49m\u001b[43mtrain_dataloader\u001b[49m\u001b[38;5;241;43m=\u001b[39;49m\u001b[43mtrain_dataloader\u001b[49m\u001b[43m,\u001b[49m\n\u001b[1;32m      3\u001b[0m \u001b[43m                      \u001b[49m\u001b[43mval_dataloader\u001b[49m\u001b[38;5;241;43m=\u001b[39;49m\u001b[43mval_dataloader\u001b[49m\u001b[43m,\u001b[49m\n\u001b[1;32m      4\u001b[0m \u001b[43m                      \u001b[49m\u001b[43moptimizer\u001b[49m\u001b[38;5;241;43m=\u001b[39;49m\u001b[43moptimizer\u001b[49m\u001b[43m,\u001b[49m\n\u001b[1;32m      5\u001b[0m \u001b[43m                      \u001b[49m\u001b[43mloss_fn\u001b[49m\u001b[38;5;241;43m=\u001b[39;49m\u001b[43mloss_fn\u001b[49m\u001b[43m,\u001b[49m\n\u001b[1;32m      6\u001b[0m \u001b[43m                      \u001b[49m\u001b[43mnum_epochs\u001b[49m\u001b[38;5;241;43m=\u001b[39;49m\u001b[38;5;241;43m30\u001b[39;49m\u001b[43m)\u001b[49m\n",
      "Cell \u001b[0;32mIn[45], line 16\u001b[0m, in \u001b[0;36mtrain_baseline\u001b[0;34m(model, train_dataloader, val_dataloader, optimizer, loss_fn, num_epochs)\u001b[0m\n\u001b[1;32m     14\u001b[0m start_time \u001b[38;5;241m=\u001b[39m time\u001b[38;5;241m.\u001b[39mtime()\n\u001b[1;32m     15\u001b[0m \u001b[38;5;66;03m# Train the model and print save the results\u001b[39;00m\n\u001b[0;32m---> 16\u001b[0m train_loss, train_acc \u001b[38;5;241m=\u001b[39m \u001b[43mtrain\u001b[49m\u001b[43m(\u001b[49m\u001b[43mmodel\u001b[49m\u001b[38;5;241;43m=\u001b[39;49m\u001b[43mmodel\u001b[49m\u001b[43m,\u001b[49m\n\u001b[1;32m     17\u001b[0m \u001b[43m                              \u001b[49m\u001b[43mdataloader\u001b[49m\u001b[38;5;241;43m=\u001b[39;49m\u001b[43mtrain_dataloader\u001b[49m\u001b[43m,\u001b[49m\u001b[43m \u001b[49m\n\u001b[1;32m     18\u001b[0m \u001b[43m                              \u001b[49m\u001b[43moptimizer\u001b[49m\u001b[38;5;241;43m=\u001b[39;49m\u001b[43moptimizer\u001b[49m\u001b[43m,\u001b[49m\n\u001b[1;32m     19\u001b[0m \u001b[43m                              \u001b[49m\u001b[43mloss_fn\u001b[49m\u001b[38;5;241;43m=\u001b[39;49m\u001b[43mloss_fn\u001b[49m\u001b[43m)\u001b[49m\n\u001b[1;32m     21\u001b[0m val_loss, val_acc \u001b[38;5;241m=\u001b[39m evaluate(model\u001b[38;5;241m=\u001b[39mmodel,\n\u001b[1;32m     22\u001b[0m                              dataloader\u001b[38;5;241m=\u001b[39mval_dataloader,\n\u001b[1;32m     23\u001b[0m                              optimizer\u001b[38;5;241m=\u001b[39moptimizer,\n\u001b[1;32m     24\u001b[0m                              loss_fn\u001b[38;5;241m=\u001b[39mloss_fn)\n\u001b[1;32m     26\u001b[0m \u001b[38;5;28;01mif\u001b[39;00m val_acc \u001b[38;5;241m>\u001b[39m best_acc:\n",
      "Cell \u001b[0;32mIn[43], line 29\u001b[0m, in \u001b[0;36mtrain\u001b[0;34m(model, dataloader, optimizer, loss_fn)\u001b[0m\n\u001b[1;32m     26\u001b[0m     optimizer\u001b[38;5;241m.\u001b[39mstep()\n\u001b[1;32m     28\u001b[0m     pred \u001b[38;5;241m=\u001b[39m torch\u001b[38;5;241m.\u001b[39margmax(preds_prob, dim\u001b[38;5;241m=\u001b[39m\u001b[38;5;241m1\u001b[39m)\n\u001b[0;32m---> 29\u001b[0m     correct \u001b[38;5;241m+\u001b[39m\u001b[38;5;241m=\u001b[39m \u001b[43mpred\u001b[49m\u001b[38;5;241;43m.\u001b[39;49m\u001b[43meq\u001b[49m\u001b[43m(\u001b[49m\u001b[43my\u001b[49m\u001b[38;5;241;43m.\u001b[39;49m\u001b[43mview_as\u001b[49m\u001b[43m(\u001b[49m\u001b[43mpred\u001b[49m\u001b[43m)\u001b[49m\u001b[43m)\u001b[49m\u001b[38;5;241;43m.\u001b[39;49m\u001b[43msum\u001b[49m\u001b[43m(\u001b[49m\u001b[43m)\u001b[49m\u001b[38;5;241;43m.\u001b[39;49m\u001b[43mitem\u001b[49m\u001b[43m(\u001b[49m\u001b[43m)\u001b[49m\n\u001b[1;32m     31\u001b[0m train_loss \u001b[38;5;241m/\u001b[39m\u001b[38;5;241m=\u001b[39m \u001b[38;5;28mlen\u001b[39m(dataloader)\n\u001b[1;32m     32\u001b[0m train_acc \u001b[38;5;241m=\u001b[39m \u001b[38;5;241m100.\u001b[39m \u001b[38;5;241m*\u001b[39m correct \u001b[38;5;241m/\u001b[39m \u001b[38;5;28mlen\u001b[39m(dataloader\u001b[38;5;241m.\u001b[39mdataset)\n",
      "\u001b[0;31mKeyboardInterrupt\u001b[0m: "
     ]
    }
   ],
   "source": [
    "base = train_baseline(model=VGG,\n",
    "                      train_dataloader=train_dataloader,\n",
    "                      val_dataloader=val_dataloader,\n",
    "                      optimizer=optimizer,\n",
    "                      loss_fn=loss_fn,\n",
    "                      num_epochs=30)"
   ]
  },
  {
   "cell_type": "code",
   "execution_count": 54,
   "id": "8534074c-288a-4a51-a173-f36107860628",
   "metadata": {},
   "outputs": [],
   "source": [
    "import gc\n",
    "gc.collect()\n",
    "torch.mps.empty_cache()"
   ]
  }
 ],
 "metadata": {
  "kernelspec": {
   "display_name": "Python (env)",
   "language": "python",
   "name": "env"
  },
  "language_info": {
   "codemirror_mode": {
    "name": "ipython",
    "version": 3
   },
   "file_extension": ".py",
   "mimetype": "text/x-python",
   "name": "python",
   "nbconvert_exporter": "python",
   "pygments_lexer": "ipython3",
   "version": "3.8.19"
  }
 },
 "nbformat": 4,
 "nbformat_minor": 5
}
