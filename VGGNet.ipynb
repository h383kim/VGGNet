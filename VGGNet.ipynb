{
 "cells": [
  {
   "cell_type": "code",
   "execution_count": 22,
   "id": "c86cd61f-6fea-49fb-aab3-fd85c80e2df5",
   "metadata": {},
   "outputs": [],
   "source": [
    "import torch\n",
    "from torch import nn\n",
    "from torch import optim\n",
    "import torchvision\n",
    "from torchvision import datasets\n",
    "from torchvision import transforms\n",
    "from torchvision.datasets import ImageFolder\n",
    "from torch.utils.data import DataLoader\n",
    "import os"
   ]
  },
  {
   "cell_type": "markdown",
   "id": "7bf36d46-723d-419a-ac97-1bb61374cba8",
   "metadata": {},
   "source": [
    "# Dataset"
   ]
  },
  {
   "cell_type": "code",
   "execution_count": 23,
   "id": "7c1a9166-bae4-4d87-8937-e09a9cc35bce",
   "metadata": {},
   "outputs": [],
   "source": [
    "base_dir = r\"/Users/h383kim/pytorch/AlexNet/splitted\"\n",
    "train_dir = os.path.join(base_dir, 'train')\n",
    "val_dir = os.path.join(base_dir, 'val')\n",
    "test_dir = os.path.join(base_dir, 'test')"
   ]
  },
  {
   "cell_type": "code",
   "execution_count": 24,
   "id": "a1409c24-fec7-48e9-8121-4155364b2094",
   "metadata": {},
   "outputs": [],
   "source": [
    "img_transform = transforms.Compose([\n",
    "    transforms.Resize(size=(224, 224)),\n",
    "    transforms.ToTensor()\n",
    "])"
   ]
  },
  {
   "cell_type": "code",
   "execution_count": 25,
   "id": "bbf2d2d8-443d-4a9c-a3f0-d7702aa40170",
   "metadata": {},
   "outputs": [],
   "source": [
    "train_dataset = ImageFolder(root=train_dir,\n",
    "                            transform=img_transform)\n",
    "val_dataset = ImageFolder(root=val_dir,\n",
    "                          transform=img_transform)\n",
    "test_dataset = ImageFolder(root=test_dir,\n",
    "                          transform=img_transform)                            "
   ]
  },
  {
   "cell_type": "code",
   "execution_count": 26,
   "id": "879dff64-d9e5-4948-9f70-e91c7e50b8ad",
   "metadata": {},
   "outputs": [],
   "source": [
    "BATCH_SIZE = 16\n",
    "train_dataloader = DataLoader(dataset=train_dataset,\n",
    "                              batch_size=BATCH_SIZE,\n",
    "                              shuffle=True,\n",
    "                              num_workers=os.cpu_count())\n",
    "val_dataloader = DataLoader(dataset=val_dataset,\n",
    "                            batch_size=BATCH_SIZE,\n",
    "                            shuffle=True,\n",
    "                            num_workers=os.cpu_count())\n",
    "test_dataloader = DataLoader(dataset=test_dataset,\n",
    "                             batch_size=BATCH_SIZE,\n",
    "                             shuffle=False,\n",
    "                             num_workers=os.cpu_count())"
   ]
  },
  {
   "cell_type": "markdown",
   "id": "f34dbbde-e96a-4297-8109-0c376876c7dd",
   "metadata": {},
   "source": [
    "# Model"
   ]
  },
  {
   "cell_type": "code",
   "execution_count": 27,
   "id": "4b2874f2-1b9a-403e-9e75-6618cec39c28",
   "metadata": {},
   "outputs": [],
   "source": [
    "VGGNet_type = {\n",
    "    \"VGG11\" : [64, \"MaxPool\", 128, \"MaxPool\", 256, 256, \"MaxPool\", 512, 512, \"MaxPool\", 512, 512, \"MaxPool\"],\n",
    "    \"VGG13\" : [64, 64, \"MaxPool\", 128, 128, \"MaxPool\", 256, 256, \"MaxPool\", 512, 512, \"MaxPool\", 512, 512, \"MaxPool\"],\n",
    "    \"VGG16\" : [64, 64, \"MaxPool\", 128, 128, \"MaxPool\", 256, 256, 256, \"MaxPool\", 512, 512, 512, \"MaxPool\", 512, 512, 512, \"MaxPool\"],\n",
    "    \"VGG19\" : [64, 64, \"MaxPool\", 128, 128, \"MaxPool\", 256, 256, 256, 256, \"MaxPool\", 512, 512, 512, 512, \"MaxPool\", 512, 512, 512, 512, \"MaxPool\"]\n",
    "}"
   ]
  },
  {
   "cell_type": "code",
   "execution_count": 28,
   "id": "6de8901e-b7fb-47ee-a072-3aa99f491942",
   "metadata": {},
   "outputs": [],
   "source": [
    "class VGGNet(nn.Module):\n",
    "    def __init__(self, in_channels, model=\"VGG19\", num_classes=10):\n",
    "        super().__init__()\n",
    "\n",
    "        self.input_size=in_channels\n",
    "\n",
    "        self.conv = self._create_conv_layers(VGGNet_type[model])\n",
    "\n",
    "        self.FC1 = nn.Sequential(\n",
    "            nn.Flatten(),\n",
    "            nn.Linear(512*7*7, 4096),\n",
    "            nn.ReLU(),\n",
    "            nn.Dropout(p=0.5),\n",
    "        )\n",
    "\n",
    "        self.FC2 = nn.Sequential(\n",
    "            nn.Linear(4096, 4096),\n",
    "            nn.ReLU(),\n",
    "            nn.Dropout(p=0.5)\n",
    "        )\n",
    "\n",
    "        self.FC3 = nn.Sequential(\n",
    "            nn.Linear(4096, num_classes)\n",
    "        )\n",
    "        \n",
    "    def forward(self, x):\n",
    "        x = self.conv(x)\n",
    "        x = self.FC1(x)\n",
    "        x = self.FC2(x)\n",
    "        x = self.FC3(x)\n",
    "\n",
    "        return x\n",
    "    \n",
    "    def _create_conv_layers(self, layers):\n",
    "        conv_blocks = []\n",
    "        in_channels = self.input_size\n",
    "        \n",
    "        for layer in layers:\n",
    "            # conv layer\n",
    "            if isinstance(layer, int):\n",
    "                out_channels = layer\n",
    "                \n",
    "                conv_blocks.append(nn.Conv2d(in_channels=in_channels, out_channels=out_channels, kernel_size=(3, 3), stride=1, padding=1))\n",
    "                conv_blocks.append(nn.BatchNorm2d(out_channels))\n",
    "                conv_blocks.append(nn.ReLU())\n",
    "                # out_channels becomes the next in_channels\n",
    "                in_channels = out_channels\n",
    "\n",
    "            # maxpooling layer\n",
    "            else:\n",
    "                conv_blocks.append(nn.MaxPool2d(kernel_size=(2, 2), stride=2))\n",
    "\n",
    "\n",
    "        return nn.Sequential(*conv_blocks)"
   ]
  },
  {
   "cell_type": "markdown",
   "id": "f560fe32-0dbd-46df-a2d9-9bfd9f9bf129",
   "metadata": {},
   "source": [
    "# Train / Evaluation"
   ]
  },
  {
   "cell_type": "code",
   "execution_count": 29,
   "id": "3683d60b-73c8-48f8-99a6-9dde1cdb68d7",
   "metadata": {},
   "outputs": [],
   "source": [
    "def train(model: torch.nn.Module,\n",
    "          dataloader: torch.utils.data.DataLoader,\n",
    "          optimizer: torch.optim.Optimizer,\n",
    "          loss_fn: torch.nn.Module=nn.CrossEntropyLoss()):\n",
    "    # Put the model into train mode\n",
    "    model.train()\n",
    "    train_loss, train_acc, correct = 0, 0, 0\n",
    "\n",
    "    for batch, (X, y) in enumerate(dataloader):\n",
    "        # Send the data into cpu or gpu\n",
    "        X, y = X.to(DEVICE), y.to(DEVICE)\n",
    "\n",
    "        # Forward pass\n",
    "        preds_prob = model(X)\n",
    "\n",
    "        # Calculate the loss\n",
    "        loss = loss_fn(preds_prob, y)\n",
    "        train_loss += loss.item()\n",
    "\n",
    "        # Optimizer zero_grad\n",
    "        optimizer.zero_grad()\n",
    "\n",
    "        # Backpropagtion\n",
    "        loss.backward()\n",
    "        # Optimizer step\n",
    "        optimizer.step()\n",
    "\n",
    "        pred = torch.argmax(preds_prob, dim=1)\n",
    "        correct += pred.eq(y.view_as(pred)).sum().item()\n",
    "\n",
    "    train_loss /= len(dataloader)\n",
    "    train_acc = 100. * correct / len(dataloader.dataset)\n",
    "    return train_loss, train_acc"
   ]
  },
  {
   "cell_type": "code",
   "execution_count": 30,
   "id": "c2c749ea-e749-4961-acf4-e2a0463190ff",
   "metadata": {},
   "outputs": [],
   "source": [
    "def evaluate(model: torch.nn.Module,\n",
    "             dataloader: torch.utils.data.DataLoader,\n",
    "             optimizer: torch.optim.Optimizer,\n",
    "             loss_fn: torch.nn.Module=nn.CrossEntropyLoss()):\n",
    "    # Put the model into eval mode\n",
    "    model.eval()\n",
    "    test_loss, test_acc, correct = 0, 0, 0\n",
    "\n",
    "    with torch.no_grad():\n",
    "        for X, y in dataloader:\n",
    "            X, y = X.to(DEVICE), y.to(DEVICE)\n",
    "\n",
    "            # Forward pass\n",
    "            preds_prob = model(X)\n",
    "\n",
    "            # Calculate the loss\n",
    "            loss = loss_fn(preds_prob, y).item()\n",
    "            test_loss += loss\n",
    "\n",
    "            pred = torch.argmax(preds_prob, dim=1)\n",
    "            correct += pred.eq(y.view_as(pred)).sum().item()\n",
    "\n",
    "        test_loss /= len(dataloader)\n",
    "        test_acc = 100. * correct / len(dataloader.dataset)\n",
    "\n",
    "    return test_loss, test_acc"
   ]
  },
  {
   "cell_type": "code",
   "execution_count": 31,
   "id": "18c09e50-7d7f-40b3-b51f-332e01aa3806",
   "metadata": {},
   "outputs": [],
   "source": [
    "import time\n",
    "import copy\n",
    "\n",
    "def train_baseline(model: torch.nn.Module, \n",
    "                   train_dataloader: torch.utils.data.DataLoader, \n",
    "                   val_dataloader: torch.utils.data.DataLoader,\n",
    "                   optimizer: torch.optim.Optimizer,\n",
    "                   loss_fn: torch.nn.Module=nn.CrossEntropyLoss(),\n",
    "                   num_epochs: int=30):\n",
    "    best_acc = 0.0\n",
    "    best_model_wts = copy.deepcopy(model.state_dict())\n",
    "    \n",
    "    for epoch in range(1, num_epochs + 1):\n",
    "        start_time = time.time()\n",
    "        # Train the model and print save the results\n",
    "        train_loss, train_acc = train(model=model,\n",
    "                                      dataloader=train_dataloader, \n",
    "                                      optimizer=optimizer,\n",
    "                                      loss_fn=loss_fn)\n",
    "        \n",
    "        val_loss, val_acc = evaluate(model=model,\n",
    "                                     dataloader=val_dataloader,\n",
    "                                     optimizer=optimizer,\n",
    "                                     loss_fn=loss_fn)\n",
    "        \n",
    "        if val_acc > best_acc:\n",
    "            best_acc = val_acc\n",
    "            best_model_wts = copy.deepcopy(model.state_dict())\n",
    "            \n",
    "        end_time = time.time()\n",
    "        time_elapsed = end_time - start_time\n",
    "        print(f\"------------ epoch {epoch} ------------\")\n",
    "        print(f\"Train loss: {train_loss:.4f} | Train acc: {train_acc:.2f}%\")\n",
    "        print(f\"Val loss: {val_loss:.4f} | Val acc: {val_acc:2f}%\")\n",
    "        print(f\"Time taken: {time_elapsed / 60:.0f}min {time_elapsed % 60:.0f}s\")\n",
    "        \n",
    "    model.load_state_dict(best_model_wts)\n",
    "    return model  "
   ]
  },
  {
   "cell_type": "markdown",
   "id": "ffecd560-2850-4378-9268-fe5b003ee59a",
   "metadata": {},
   "source": [
    "# Train Baseline Model"
   ]
  },
  {
   "cell_type": "code",
   "execution_count": 32,
   "id": "b777308e-e6bb-413b-a987-8c9bfa7d8653",
   "metadata": {},
   "outputs": [
    {
     "data": {
      "text/plain": [
       "'mps'"
      ]
     },
     "execution_count": 32,
     "metadata": {},
     "output_type": "execute_result"
    }
   ],
   "source": [
    "DEVICE = \"mps\" if torch.backends.mps.is_available() else \"cpu\"\n",
    "DEVICE"
   ]
  },
  {
   "cell_type": "code",
   "execution_count": 36,
   "id": "05eee50a-a9d9-42a4-8325-07305c546436",
   "metadata": {},
   "outputs": [],
   "source": [
    "VGG = VGGNet(in_channels=3, model=\"VGG11\", num_classes=10).to(DEVICE)\n",
    "loss_fn = nn.CrossEntropyLoss()\n",
    "optimizer = torch.optim.Adam(VGG.parameters(), lr = 0.001)\n",
    "scheduler = torch.optim.lr_scheduler.StepLR(optimizer, step_size=10, gamma=0.3)"
   ]
  },
  {
   "cell_type": "code",
   "execution_count": 37,
   "id": "05f86d50-8639-43bd-8abf-1c21b87cf03e",
   "metadata": {},
   "outputs": [
    {
     "name": "stdout",
     "output_type": "stream",
     "text": [
      "------------ epoch 1 ------------\n",
      "Train loss: 2.4795 | Train acc: 18.18%\n",
      "Val loss: 2.2058 | Val acc: 18.706963%\n",
      "Time taken: 10min 39s\n",
      "------------ epoch 2 ------------\n",
      "Train loss: 2.2124 | Train acc: 18.63%\n",
      "Val loss: 2.2082 | Val acc: 18.592196%\n",
      "Time taken: 10min 34s\n",
      "------------ epoch 3 ------------\n",
      "Train loss: 2.2115 | Train acc: 18.34%\n",
      "Val loss: 2.2095 | Val acc: 18.439174%\n",
      "Time taken: 10min 36s\n"
     ]
    }
   ],
   "source": [
    "base = train_baseline(model=VGG,\n",
    "                      train_dataloader=train_dataloader,\n",
    "                      val_dataloader=val_dataloader,\n",
    "                      optimizer=optimizer,\n",
    "                      loss_fn=loss_fn,\n",
    "                      num_epochs=3)"
   ]
  },
  {
   "cell_type": "code",
   "execution_count": 34,
   "id": "2e15ec08-c0da-4c6b-b4c6-33b695b794ef",
   "metadata": {},
   "outputs": [
    {
     "name": "stdout",
     "output_type": "stream",
     "text": [
      "----------------------------------------------------------------\n",
      "        Layer (type)               Output Shape         Param #\n",
      "================================================================\n",
      "            Conv2d-1         [-1, 64, 224, 224]           1,792\n",
      "       BatchNorm2d-2         [-1, 64, 224, 224]             128\n",
      "              ReLU-3         [-1, 64, 224, 224]               0\n",
      "         MaxPool2d-4         [-1, 64, 112, 112]               0\n",
      "            Conv2d-5        [-1, 128, 112, 112]          73,856\n",
      "       BatchNorm2d-6        [-1, 128, 112, 112]             256\n",
      "              ReLU-7        [-1, 128, 112, 112]               0\n",
      "         MaxPool2d-8          [-1, 128, 56, 56]               0\n",
      "            Conv2d-9          [-1, 256, 56, 56]         295,168\n",
      "      BatchNorm2d-10          [-1, 256, 56, 56]             512\n",
      "             ReLU-11          [-1, 256, 56, 56]               0\n",
      "           Conv2d-12          [-1, 256, 56, 56]         590,080\n",
      "      BatchNorm2d-13          [-1, 256, 56, 56]             512\n",
      "             ReLU-14          [-1, 256, 56, 56]               0\n",
      "        MaxPool2d-15          [-1, 256, 28, 28]               0\n",
      "           Conv2d-16          [-1, 512, 28, 28]       1,180,160\n",
      "      BatchNorm2d-17          [-1, 512, 28, 28]           1,024\n",
      "             ReLU-18          [-1, 512, 28, 28]               0\n",
      "           Conv2d-19          [-1, 512, 28, 28]       2,359,808\n",
      "      BatchNorm2d-20          [-1, 512, 28, 28]           1,024\n",
      "             ReLU-21          [-1, 512, 28, 28]               0\n",
      "        MaxPool2d-22          [-1, 512, 14, 14]               0\n",
      "           Conv2d-23          [-1, 512, 14, 14]       2,359,808\n",
      "      BatchNorm2d-24          [-1, 512, 14, 14]           1,024\n",
      "             ReLU-25          [-1, 512, 14, 14]               0\n",
      "           Conv2d-26          [-1, 512, 14, 14]       2,359,808\n",
      "      BatchNorm2d-27          [-1, 512, 14, 14]           1,024\n",
      "             ReLU-28          [-1, 512, 14, 14]               0\n",
      "        MaxPool2d-29            [-1, 512, 7, 7]               0\n",
      "          Flatten-30                [-1, 25088]               0\n",
      "           Linear-31                 [-1, 4096]     102,764,544\n",
      "             ReLU-32                 [-1, 4096]               0\n",
      "          Dropout-33                 [-1, 4096]               0\n",
      "           Linear-34                 [-1, 4096]      16,781,312\n",
      "             ReLU-35                 [-1, 4096]               0\n",
      "          Dropout-36                 [-1, 4096]               0\n",
      "           Linear-37                   [-1, 10]          40,970\n",
      "================================================================\n",
      "Total params: 128,812,810\n",
      "Trainable params: 128,812,810\n",
      "Non-trainable params: 0\n",
      "----------------------------------------------------------------\n",
      "Input size (MB): 0.57\n",
      "Forward/backward pass size (MB): 182.02\n",
      "Params size (MB): 491.38\n",
      "Estimated Total Size (MB): 673.98\n",
      "----------------------------------------------------------------\n"
     ]
    }
   ],
   "source": [
    "import torchsummary\n",
    "from torchsummary import summary\n",
    "\n",
    "summary(VGG.to(\"cpu\"), input_size=(3, 224, 224), device=\"cpu\")"
   ]
  },
  {
   "cell_type": "code",
   "execution_count": 54,
   "id": "8534074c-288a-4a51-a173-f36107860628",
   "metadata": {},
   "outputs": [],
   "source": [
    "import gc\n",
    "gc.collect()\n",
    "torch.mps.empty_cache()"
   ]
  }
 ],
 "metadata": {
  "kernelspec": {
   "display_name": "Python (env)",
   "language": "python",
   "name": "env"
  },
  "language_info": {
   "codemirror_mode": {
    "name": "ipython",
    "version": 3
   },
   "file_extension": ".py",
   "mimetype": "text/x-python",
   "name": "python",
   "nbconvert_exporter": "python",
   "pygments_lexer": "ipython3",
   "version": "3.8.19"
  }
 },
 "nbformat": 4,
 "nbformat_minor": 5
}
